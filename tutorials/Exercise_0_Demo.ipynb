{
  "cells": [
    {
      "cell_type": "markdown",
      "metadata": {
        "id": "view-in-github",
        "colab_type": "text"
      },
      "source": [
        "<a href=\"https://colab.research.google.com/github/mindgarage/very-deep-learning-wise2324/blob/main/tutorials/Exercise_0_Demo.ipynb\" target=\"_parent\"><img src=\"https://colab.research.google.com/assets/colab-badge.svg\" alt=\"Open In Colab\"/></a>"
      ]
    },
    {
      "cell_type": "markdown",
      "metadata": {
        "id": "ktTpk9bCr_Lg"
      },
      "source": [
        "# PyTorch Basics Tutorial\n",
        "\n",
        "This tutorial is a compilation of essential topics adapted from the [DeepLearningForNLPInPytorch tutorial](https://github.com/rguthrie3/DeepLearningForNLPInPytorch/blob/master/Deep%20Learning%20for%20Natural%20Language%20Processing%20with%20Pytorch.ipynb) and the [Official PyTorch tutorials](https://pytorch.org/tutorials/beginner/blitz/tensor_tutorial.html#sphx-glr-beginner-blitz-tensor-tutorial-py)."
      ]
    },
    {
      "cell_type": "markdown",
      "metadata": {
        "id": "gT-s9_PdslEW"
      },
      "source": [
        "## Installation\n",
        "\n",
        "Before diving into the tutorial, let's make sure you've got PyTorch installed. It can be installed using either `conda` or `pip` with the following commands:\n",
        "\n",
        "- `conda install pytorch-c pytorch`\n",
        "- `pip3 install torch`\n",
        "\n",
        "You can learn more about installation and getting started [here](https://pytorch.org/get-started/locally/).\n"
      ]
    },
    {
      "cell_type": "code",
      "execution_count": 53,
      "metadata": {
        "colab": {
          "base_uri": "https://localhost:8080/"
        },
        "id": "GlRjjJqDr5bs",
        "outputId": "cba4405c-fe60-4857-977f-e09f7ff50242"
      },
      "outputs": [
        {
          "output_type": "stream",
          "name": "stdout",
          "text": [
            "2.1.0+cu118\n"
          ]
        }
      ],
      "source": [
        "import torch\n",
        "print(torch.__version__)"
      ]
    },
    {
      "cell_type": "markdown",
      "metadata": {
        "id": "xaso_dtjsExr"
      },
      "source": [
        "## 1. Tensors: The Building Blocks\n",
        "\n",
        "Tensors are essentially multi-dimensional arrays that serve as the core data structure in PyTorch. If you are familiar with NumPy, tensors are akin to ndarrays, but with the additional capability to be used on GPUs for faster computation.\n",
        "\n",
        "### 1.1 Creating Tensors from Data\n",
        "You can easily create a tensor from existing data, such as Python lists or NumPy arrays."
      ]
    },
    {
      "cell_type": "code",
      "execution_count": 54,
      "metadata": {
        "id": "zpQ5Oek2s4ca"
      },
      "outputs": [],
      "source": [
        "# 1-D data example\n",
        "tensor = torch.Tensor([1.0, 2.0, 3.0])\n",
        "\n",
        "# 2-D data example\n",
        "tensor = torch.Tensor([[1., 2., 3.], [4., 5., 6.]])\n",
        "\n",
        "# 3-D data example\n",
        "tensor = torch.Tensor([[[1.,2.], [3.,4.]], [[5.,6.], [7.,8.]]])"
      ]
    },
    {
      "cell_type": "markdown",
      "source": [
        "**Why it Matters**: Creating tensors from data is often the first step in preparing your dataset for machine learning models."
      ],
      "metadata": {
        "id": "pyM7KNudCkAU"
      }
    },
    {
      "cell_type": "markdown",
      "metadata": {
        "id": "b18oELGNvhNg"
      },
      "source": [
        "### 1.2 Initializing an Empty Tensor\n",
        "An uninitialized tensor is essentially a block of memory allocated for tensor storage but not yet populated with values.\n"
      ]
    },
    {
      "cell_type": "code",
      "execution_count": 55,
      "metadata": {
        "id": "kg_gi1AWv_1E"
      },
      "outputs": [],
      "source": [
        "x = torch.empty(2, 3)"
      ]
    },
    {
      "cell_type": "markdown",
      "source": [
        "**Why it Matters**: Uninitialized tensors can be useful when you need a tensor of a certain shape but don't yet know the values it should contain."
      ],
      "metadata": {
        "id": "MLC9nDsDCxRl"
      }
    },
    {
      "cell_type": "markdown",
      "metadata": {
        "id": "gDr4ZzQrwOmZ"
      },
      "source": [
        "### 1.3 Randomly Initialized Tensors\n",
        "Sometimes, you might need tensors with random values, often as initial values for model parameters.\n",
        "\n",
        "**Uniform Distribution:**"
      ]
    },
    {
      "cell_type": "code",
      "execution_count": 56,
      "metadata": {
        "id": "r0pZQfUywgwL"
      },
      "outputs": [],
      "source": [
        "x = torch.rand(2, 3) # Values between 0 and 1"
      ]
    },
    {
      "cell_type": "markdown",
      "source": [
        "**Normal Distribution:**"
      ],
      "metadata": {
        "id": "UGCh0iZ2C8Ng"
      }
    },
    {
      "cell_type": "code",
      "source": [
        "x = torch.randn(2, 3) # Mean 0, standard deviation 1"
      ],
      "metadata": {
        "id": "sT2f8uouDBKg"
      },
      "execution_count": 57,
      "outputs": []
    },
    {
      "cell_type": "markdown",
      "source": [
        "**Why it Matters**: Randomly initialized tensors are crucial for techniques like weight initialization in neural networks."
      ],
      "metadata": {
        "id": "UZX5NqCfDFHN"
      }
    },
    {
      "cell_type": "markdown",
      "metadata": {
        "id": "rLJOlS32wjFg"
      },
      "source": [
        "### 1.4 Tensors with Specific Values\n",
        "Creating tensors filled with zeros or ones is a common task in both data preprocessing and model initialization.\n",
        "\n",
        "**Matrix of Zeros:**"
      ]
    },
    {
      "cell_type": "code",
      "execution_count": 58,
      "metadata": {
        "id": "JQ0JM9njwtFr"
      },
      "outputs": [],
      "source": [
        "x = torch.zeros(2, 3)\n"
      ]
    },
    {
      "cell_type": "markdown",
      "source": [
        "**Matrix of Ones:**"
      ],
      "metadata": {
        "id": "D4f_bkZrDRN4"
      }
    },
    {
      "cell_type": "code",
      "source": [
        "x = torch.ones(2, 3, dtype=torch.long)"
      ],
      "metadata": {
        "id": "WchbDZ1SDSnE"
      },
      "execution_count": 59,
      "outputs": []
    },
    {
      "cell_type": "markdown",
      "source": [
        "**Why it Matters**: Matrices of zeros or ones are commonly used for tasks like one-hot encoding, initializing biases, or creating masks."
      ],
      "metadata": {
        "id": "Mpu_2t13DVP5"
      }
    },
    {
      "cell_type": "markdown",
      "metadata": {
        "id": "s0HQKRy2wsDd"
      },
      "source": [
        "### 1.5 Create Tensor Based on Existing Tensor\n",
        "Creating a new tensor with the same properties (like dtype, device, etc.) as an existing tensor is a frequent requirement."
      ]
    },
    {
      "cell_type": "code",
      "execution_count": 60,
      "metadata": {
        "id": "visdOehpxqd-",
        "outputId": "91832e77-8364-41fc-f762-b159750ef06e",
        "colab": {
          "base_uri": "https://localhost:8080/"
        }
      },
      "outputs": [
        {
          "output_type": "stream",
          "name": "stdout",
          "text": [
            "tensor([[1., 1., 1.],\n",
            "        [1., 1., 1.]], dtype=torch.float64)\n",
            "tensor([[-1.9495, -1.2441,  1.5035],\n",
            "        [ 0.2017, -0.9622,  0.6746]])\n"
          ]
        }
      ],
      "source": [
        "x = x.new_ones(2, 3, dtype=torch.double)  # new_* methods take sizes\n",
        "print(x)\n",
        "\n",
        "x = torch.ones_like(x)  # Creates a tensor of ones with the same shape as x\n",
        "x = torch.randn_like(x, dtype=torch.float)  # Overrides the dtype while keeping the shape\n",
        "print(x)"
      ]
    },
    {
      "cell_type": "markdown",
      "source": [
        "**Why it Matters**: Using the existing tensor's properties can ensure that your new tensor will be compatible in subsequent operations, reducing the chance of errors due to incompatible shapes, data types, or devices."
      ],
      "metadata": {
        "id": "fwPziPqfEX3A"
      }
    },
    {
      "cell_type": "markdown",
      "metadata": {
        "id": "HLZfCcObzBTe"
      },
      "source": [
        "### 1.6 Size of a Tensor\n",
        "Knowing the shape or dimensions of a tensor is crucial for debugging and for performing various tensor operations."
      ]
    },
    {
      "cell_type": "code",
      "execution_count": 61,
      "metadata": {
        "colab": {
          "base_uri": "https://localhost:8080/"
        },
        "id": "YVIu-uZnzEm-",
        "outputId": "a0358fec-ef93-4c9b-d660-ca8a5ce7e405"
      },
      "outputs": [
        {
          "output_type": "stream",
          "name": "stdout",
          "text": [
            "torch.Size([2, 2, 2])\n",
            "torch.Size([2, 2, 2])\n"
          ]
        }
      ],
      "source": [
        "# Various ways to find the size of a tensor\n",
        "print(tensor.size())\n",
        "print(tensor.shape)"
      ]
    },
    {
      "cell_type": "markdown",
      "source": [
        "**Why it Matters**: Many machine learning models have strict requirements on the dimensions of their input data. Knowing how to find and understand these dimensions is crucial."
      ],
      "metadata": {
        "id": "gHGp_HpQEguv"
      }
    },
    {
      "cell_type": "markdown",
      "metadata": {
        "id": "cYai6C6H0kKx"
      },
      "source": [
        "### 1.7 Operations with Tensors\n",
        "Performing operations between tensors is a fundamental part of building neural networks."
      ]
    },
    {
      "cell_type": "code",
      "execution_count": 62,
      "metadata": {
        "id": "ZRj42hPO0prW",
        "outputId": "396d27a8-dd6b-41dd-c4ac-39f17f25632d",
        "colab": {
          "base_uri": "https://localhost:8080/"
        }
      },
      "outputs": [
        {
          "output_type": "stream",
          "name": "stdout",
          "text": [
            "tensor([0.7246, 1.0968, 0.7517, 1.7262, 0.6855, 0.3973, 0.7661, 1.7565])\n",
            "tensor([0.7246, 1.0968, 0.7517, 1.7262, 0.6855, 0.3973, 0.7661, 1.7565])\n",
            "tensor([-0.1198, -0.5711,  0.4086,  0.1748,  0.5760,  0.2236, -0.0963,  0.1628])\n",
            "tensor([0.7246, 1.0968, 0.7517, 1.7262, 0.6855, 0.3973, 0.7661, 1.7565])\n"
          ]
        }
      ],
      "source": [
        "x = torch.rand(8)\n",
        "y = torch.rand(8)\n",
        "\n",
        "# Addition\n",
        "z = x + y\n",
        "print(z)\n",
        "\n",
        "# Using PyTorch's built-in functions\n",
        "print(torch.add(x, y))\n",
        "print(torch.subtract(x, y))\n",
        "\n",
        "# In-place addition (modifies the tensor directly)\n",
        "y.add_(x)\n",
        "print(y)"
      ]
    },
    {
      "cell_type": "markdown",
      "metadata": {
        "id": "hFetPkbO1750"
      },
      "source": [
        "**Note**: In-place operations (those that modify the tensor directly) are post-fixed with an _.\n",
        "\n",
        "**Why it Matters**: Neural networks are essentially computations that modify tensor values. Mastering tensor operations is crucial for understanding and creating machine learning models."
      ]
    },
    {
      "cell_type": "markdown",
      "metadata": {
        "id": "_IqeYxdg3Bvk"
      },
      "source": [
        "### 1.8 Reshaping Tensors\n",
        "Reshaping tensors is often necessary to get them into the shape that you need for specific operations or layer inputs."
      ]
    },
    {
      "cell_type": "code",
      "execution_count": 63,
      "metadata": {
        "id": "pUwsXsfw26g_"
      },
      "outputs": [],
      "source": [
        "y = x.view(2, -1)  # Reshapes to 2 rows, infers the number of columns\n",
        "z = x.view(-1, 8)  # Reshapes to 8 columns, infers the number of rows"
      ]
    },
    {
      "cell_type": "markdown",
      "source": [
        "**Why it Matters**: Some neural network layers expect inputs to have a specific shape. Reshaping tensors is crucial for feeding data into these layers."
      ],
      "metadata": {
        "id": "wrvyU3zMEz8k"
      }
    },
    {
      "cell_type": "markdown",
      "metadata": {
        "id": "zRbkdZcArlk7"
      },
      "source": [
        "### 1.9 Converting to and from NumPy\n",
        "Switching between PyTorch Tensors and NumPy arrays is seamless and useful for integrating PyTorch into a broader Python data ecosystem.\n"
      ]
    },
    {
      "cell_type": "code",
      "execution_count": 65,
      "metadata": {
        "colab": {
          "base_uri": "https://localhost:8080/"
        },
        "id": "BlLtucZM3g-N",
        "outputId": "6e5030e4-11e6-47be-fee8-f4bf6966de63"
      },
      "outputs": [
        {
          "output_type": "stream",
          "name": "stdout",
          "text": [
            "tensor([2., 2., 2., 2., 2.])\n",
            "[2. 2. 2. 2. 2.]\n"
          ]
        }
      ],
      "source": [
        "import numpy as np\n",
        "\n",
        "# Converting a PyTorch Tensor to a NumPy array\n",
        "a = torch.ones(5)\n",
        "b = a.numpy()\n",
        "\n",
        "# Changes in the Tensor reflect in the NumPy array and vice versa\n",
        "a.add_(1)\n",
        "print(a)\n",
        "print(b)\n",
        "\n",
        "# Converting a NumPy array to a PyTorch Tensor\n",
        "a = np.ones(5)\n",
        "b = torch.from_numpy(a)"
      ]
    },
    {
      "cell_type": "markdown",
      "source": [
        "**Note**: The Torch Tensor and NumPy array share the same memory if the tensor is on the CPU.\n",
        "\n",
        "**Why it Matters**: Knowing how to convert between PyTorch Tensors and NumPy arrays allows for easier data manipulation and usage of other Python libraries that operate on NumPy arrays."
      ],
      "metadata": {
        "id": "jhSWsw1SE9Sc"
      }
    },
    {
      "cell_type": "markdown",
      "metadata": {
        "id": "g-T79NfE4Ck2"
      },
      "source": [
        "### 1.10. CUDA Tensors\n",
        "CUDA Tensors are essentially regular PyTorch Tensors, but they utilize the GPU for computation, leading to potential speed-ups for your code. The ability to perform operations on the GPU rather than the CPU can be crucial for large-scale data tasks.\n",
        "\n",
        "**Enabling GPU on Colab Notebook**: If you are using a Colab notebook, you can enable GPU support:\n",
        "\n",
        "1. Go to Edit -> Notebook Settings\n",
        "2. Under Hardware Accelerator, select GPU."
      ]
    },
    {
      "cell_type": "code",
      "execution_count": 66,
      "metadata": {
        "colab": {
          "base_uri": "https://localhost:8080/"
        },
        "id": "KWaJxd1-4M2w",
        "outputId": "fc66546a-5c36-4e0d-d240-793284db3832"
      },
      "outputs": [
        {
          "output_type": "stream",
          "name": "stdout",
          "text": [
            "Is CUDA available? True\n",
            "Tensor operations on GPU: tensor([2., 3., 4.], device='cuda:0')\n",
            "Tensor operations back on CPU: tensor([2., 3., 4.], dtype=torch.float64)\n"
          ]
        }
      ],
      "source": [
        "# This code checks whether CUDA is available on your machine\n",
        "import torch\n",
        "print(\"Is CUDA available?\", torch.cuda.is_available())\n",
        "\n",
        "# If CUDA is available, we define a PyTorch device object that uses CUDA\n",
        "if torch.cuda.is_available():\n",
        "    device = torch.device(\"cuda\")  # a CUDA device object\n",
        "    x = torch.Tensor([1.0, 2.0, 3.0])\n",
        "    y = torch.ones_like(x, device=device)  # Creates tensor on GPU\n",
        "    x = x.to(device)  # Moves x to GPU\n",
        "    z = x + y\n",
        "    print(\"Tensor operations on GPU:\", z)\n",
        "    print(\"Tensor operations back on CPU:\", z.to(\"cpu\", torch.double))  # Moves z to CPU and also changes dtype"
      ]
    },
    {
      "cell_type": "markdown",
      "source": [
        "**Why it Matters**: Utilizing the GPU can significantly speed up code execution for large-scale linear algebra operations and neural network computations, especially for deep learning models with many layers or a large number of parameters.\n",
        "\n",
        "**Note**: Moving tensors between the CPU and GPU is not free in terms of computational cost. Ensure that you perform as many operations as possible on the GPU before moving the result back to the CPU to minimize this overhead."
      ],
      "metadata": {
        "id": "m4wNdQy7FvDD"
      }
    },
    {
      "cell_type": "markdown",
      "metadata": {
        "id": "UqClHzpw6Lg3"
      },
      "source": [
        "## 2. Autograd: Automatic Differentiation\n",
        "Autograd is PyTorch's automatic differentiation library. Understanding how Autograd works is crucial for training deep learning models effectively and efficiently.\n",
        "\n",
        "### 2.1 Define-By-Run Paradigm\n",
        "Autograd is unique because it's a \"define-by-run\" framework. In other words, the way you write your code defines the computation graph. This is more flexible than \"define-and-run\" frameworks, allowing you to change the way you compute gradients on-the-fly.\n",
        "\n",
        "### 2.2 Tensor Tracking\n",
        "A PyTorch `Tensor` has an attribute called `requires_grad`. If you set this attribute to `True`, Autograd will start to track tensor operations to build up a computation graph."
      ]
    },
    {
      "cell_type": "code",
      "execution_count": 67,
      "metadata": {
        "id": "s3JXX8xr8HWJ"
      },
      "outputs": [],
      "source": [
        "# Create a tensor and set requires_grad=True to track computation with it\n",
        "x = torch.tensor([1.0, 2.0, 3.0], requires_grad=True)"
      ]
    },
    {
      "cell_type": "markdown",
      "source": [
        "### 2.3 Backward Propagation\n",
        "Once you've completed your computations, you can call the `.backward()` method to compute all the gradients automatically. The gradients will be stored in the `.grad` attribute of the respective tensors."
      ],
      "metadata": {
        "id": "TCglES4vGQOb"
      }
    },
    {
      "cell_type": "code",
      "execution_count": 68,
      "metadata": {
        "colab": {
          "base_uri": "https://localhost:8080/"
        },
        "id": "CuHGuSWn8Pfm",
        "outputId": "c0bf0873-5a37-4b6c-ac3c-cbf042e1c3c9"
      },
      "outputs": [
        {
          "output_type": "stream",
          "name": "stdout",
          "text": [
            "tensor([0.6667, 0.6667, 0.6667])\n"
          ]
        }
      ],
      "source": [
        "# Compute some function of x\n",
        "y = x * 2\n",
        "z = y.mean()\n",
        "\n",
        "# Compute gradients\n",
        "z.backward()\n",
        "\n",
        "# Check gradients\n",
        "print(x.grad)"
      ]
    },
    {
      "cell_type": "markdown",
      "source": [
        "### 2.4 Detaching Tensors\n",
        "If you want to remove a tensor from the computation graph, you can call `.detach()`. This is particularly useful when you want to freeze parts of your model, or you have computed some values that you will need later but don't want gradients for."
      ],
      "metadata": {
        "id": "0DVA1ItuGXNB"
      }
    },
    {
      "cell_type": "code",
      "execution_count": 69,
      "metadata": {
        "id": "ylMfa4AP8ZfW"
      },
      "outputs": [],
      "source": [
        "# Detach y from computation graph\n",
        "y_detached = y.detach()"
      ]
    },
    {
      "cell_type": "markdown",
      "metadata": {
        "id": "TbbCf8kM8-hd"
      },
      "source": [
        "### 2.5 Context Manager for Non-tracking\n",
        "Sometimes you want to perform operations that you don't want to track. For instance, during model evaluation, it's often unnecessary to track gradients. To stop tracking history temporarily, you can wrap your code inside a `with torch.no_grad():` block."
      ]
    },
    {
      "cell_type": "code",
      "execution_count": 70,
      "metadata": {
        "colab": {
          "base_uri": "https://localhost:8080/"
        },
        "id": "qrCqBdbE9Avl",
        "outputId": "e3d33818-8843-4458-9287-286542ce4ea7"
      },
      "outputs": [
        {
          "output_type": "stream",
          "name": "stdout",
          "text": [
            "tensor([2., 4., 6.])\n"
          ]
        }
      ],
      "source": [
        "with torch.no_grad():\n",
        "    # Computation here will not be tracked\n",
        "    y = x * 2\n",
        "    print(y)"
      ]
    },
    {
      "cell_type": "markdown",
      "metadata": {
        "id": "gonQpAmB-nLL"
      },
      "source": [
        "**Key Points**:\n",
        "- **.requires_grad**: To enable tracking, set this attribute to `True`.\n",
        "- **.backward()**: Initiates backward pass and computes gradients.\n",
        "- **.grad**: Contains computed gradients.\n",
        "- **.detach()**: Removes tracking.\n",
        "- **torch.no_grad()**: Temporarily disables gradient tracking."
      ]
    },
    {
      "cell_type": "markdown",
      "metadata": {
        "id": "LvVKKkOHaAu0"
      },
      "source": [
        "## Datasets and DataLoaders"
      ]
    },
    {
      "cell_type": "code",
      "execution_count": null,
      "metadata": {
        "colab": {
          "base_uri": "https://localhost:8080/"
        },
        "id": "xI-GT4eobJ-J",
        "outputId": "7c52b7fa-36e2-46e1-f6e6-31d3786dbef4"
      },
      "outputs": [
        {
          "name": "stdout",
          "output_type": "stream",
          "text": [
            "224\n",
            "224\n"
          ]
        }
      ],
      "source": [
        "x_train = np.random.randn(224, 3)\n",
        "y_train = np.random.randn(224)\n",
        "print(len(x_train))\n",
        "print(len(y_train))"
      ]
    },
    {
      "cell_type": "code",
      "execution_count": null,
      "metadata": {
        "colab": {
          "base_uri": "https://localhost:8080/"
        },
        "id": "eQGB3RRdZo7P",
        "outputId": "317fc53d-614d-4da2-f619-973ed2fba431"
      },
      "outputs": [
        {
          "name": "stdout",
          "output_type": "stream",
          "text": [
            "224\n",
            "28\n"
          ]
        },
        {
          "name": "stderr",
          "output_type": "stream",
          "text": [
            "/usr/local/lib/python3.7/dist-packages/torch/utils/data/dataloader.py:566: UserWarning: This DataLoader will create 4 worker processes in total. Our suggested max number of worker in current system is 2, which is smaller than what this DataLoader is going to create. Please be aware that excessive worker creation might get DataLoader running slow or even freeze, lower the worker number to avoid potential slowness/freeze if necessary.\n",
            "  cpuset_checked))\n"
          ]
        }
      ],
      "source": [
        "import torch\n",
        "from torch.utils.data import Dataset, DataLoader\n",
        "\n",
        "class CustomDataset(Dataset):\n",
        "  \"\"\" A custom dataset. \"\"\"\n",
        "\n",
        "  def __init__(self, x_tensor, y_tensor):\n",
        "    self.x = x_tensor\n",
        "    self.y = y_tensor\n",
        "\n",
        "  def __len__(self):\n",
        "    \"\"\" Return size of the dataset. \"\"\"\n",
        "    return len(self.x)\n",
        "\n",
        "  def __getitem__(self, index):\n",
        "    \"\"\" Get an item from the dataset. \"\"\"\n",
        "    return self.x[index], self.y[index]\n",
        "\n",
        "x_tensor = torch.from_numpy(x_train).float()\n",
        "y_tensor = torch.from_numpy(y_train).float()\n",
        "\n",
        "train_data = CustomDataset(x_tensor, y_tensor)\n",
        "print(len(train_data))\n",
        "\n",
        "train_loader = DataLoader(train_data, batch_size=8,\n",
        "                          shuffle=True, num_workers=4)\n",
        "print(len(train_loader))"
      ]
    },
    {
      "cell_type": "markdown",
      "source": [
        "## Modules"
      ],
      "metadata": {
        "id": "hrp47AYCzNVK"
      }
    },
    {
      "cell_type": "code",
      "execution_count": null,
      "metadata": {
        "colab": {
          "base_uri": "https://localhost:8080/"
        },
        "id": "OuDF-ITFdLrg",
        "outputId": "9bc85906-05fb-4c8a-dee1-57e77573b928"
      },
      "outputs": [
        {
          "name": "stdout",
          "output_type": "stream",
          "text": [
            "CustomNetwork(\n",
            "  (layer1): Linear(in_features=3, out_features=64, bias=True)\n",
            "  (layer2): Linear(in_features=64, out_features=768, bias=True)\n",
            "  (act): ReLU()\n",
            ")\n",
            "torch.Size([224, 768])\n"
          ]
        }
      ],
      "source": [
        "import torch.nn as nn\n",
        "\n",
        "class CustomNetwork(nn.Module):\n",
        "  def __init__(self):\n",
        "    \"\"\" Create the network architecture. \"\"\"\n",
        "    super().__init__()\n",
        "    self.layer1 = nn.Linear(3, 64)\n",
        "    self.layer2 = nn.Linear(64, 768)\n",
        "    self.act = nn.ReLU()\n",
        "\n",
        "  def forward(self, x):\n",
        "    \"\"\" Forward pass. \"\"\"\n",
        "    x = self.layer1(x)\n",
        "    x = self.act(self.layer2(x))\n",
        "    return x\n",
        "\n",
        "\n",
        "net = CustomNetwork()\n",
        "print(net)\n",
        "\n",
        "x = torch.rand((224, 3))\n",
        "out = net(x)\n",
        "print(out.shape)"
      ]
    },
    {
      "cell_type": "markdown",
      "metadata": {
        "id": "qgGN3AvzKY2Q"
      },
      "source": [
        "## Example Task: CIFAR-10 Classification\n",
        "\n",
        "In this section, we will see a working example of image classification on the CIFAR dataset. You can learn more about the dataset here: https://huggingface.co/datasets/cifar10."
      ]
    },
    {
      "cell_type": "code",
      "execution_count": null,
      "metadata": {
        "id": "RpS8enlLK1oP"
      },
      "outputs": [],
      "source": [
        "import torch\n",
        "import torchvision\n",
        "from torchvision import transforms"
      ]
    },
    {
      "cell_type": "markdown",
      "metadata": {
        "id": "piKiooNgK4B3"
      },
      "source": [
        "### Define the Dataset and DataLoader"
      ]
    },
    {
      "cell_type": "code",
      "execution_count": null,
      "metadata": {
        "colab": {
          "base_uri": "https://localhost:8080/"
        },
        "id": "tSO1gcc-ITwJ",
        "outputId": "41799620-1597-4984-86b8-c95edd4760e0"
      },
      "outputs": [
        {
          "name": "stdout",
          "output_type": "stream",
          "text": [
            "Downloading https://www.cs.toronto.edu/~kriz/cifar-10-python.tar.gz to ./data/cifar-10-python.tar.gz\n"
          ]
        },
        {
          "name": "stderr",
          "output_type": "stream",
          "text": [
            "100%|██████████| 170498071/170498071 [00:04<00:00, 36696683.14it/s]\n"
          ]
        },
        {
          "name": "stdout",
          "output_type": "stream",
          "text": [
            "Extracting ./data/cifar-10-python.tar.gz to ./data\n",
            "Files already downloaded and verified\n"
          ]
        }
      ],
      "source": [
        "# Define transforms (data preprocessing)\n",
        "# https://pytorch.org/vision/0.8/transforms.html\n",
        "transform = transforms.Compose([\n",
        "    transforms.ToTensor(),\n",
        "    transforms.Normalize((0.5, 0.5, 0.5), # mean\n",
        "                         (0.5, 0.5, 0.5)) # std\n",
        "])\n",
        "\n",
        "# transfomed_image = transform(image)\n",
        "\n",
        "# Create the dataset\n",
        "# We are using CIFAR10, which is provided by torchvision, so we\n",
        "# do not need to define our own class.\n",
        "# https://pytorch.org/vision/0.8/datasets.html\n",
        "trainset = torchvision.datasets.CIFAR10(root='./data', train=True,\n",
        "                                        download=True, transform=transform)\n",
        "testset = torchvision.datasets.CIFAR10(root='./data', train=False,\n",
        "                                       download=True, transform=transform)\n",
        "# validation_set for hyperparameter tuning\n",
        "# 70 / 10 / 20 for train/val/test\n",
        "classes = ('plane', 'car', 'bird', 'cat', 'deer',\n",
        "           'dog', 'frog', 'horse', 'ship', 'truck')\n",
        "\n",
        "# Create the data loader (to load data in batches)\n",
        "batch_size = 4\n",
        "trainloader = torch.utils.data.DataLoader(trainset, batch_size=batch_size,\n",
        "                                          shuffle=True, num_workers=2)\n",
        "testloader = torch.utils.data.DataLoader(testset, batch_size=batch_size,\n",
        "                                         shuffle=False, num_workers=2)"
      ]
    },
    {
      "cell_type": "markdown",
      "metadata": {
        "id": "-2ljr0wvLjAV"
      },
      "source": [
        "### Visualize a Data Sample"
      ]
    },
    {
      "cell_type": "code",
      "execution_count": null,
      "metadata": {
        "colab": {
          "base_uri": "https://localhost:8080/",
          "height": 210
        },
        "id": "sKAopWIzIk06",
        "outputId": "89272c0f-1f9a-4439-a71c-c050279e52d0"
      },
      "outputs": [
        {
          "data": {
            "image/png": "[encoded data removed]",
            "text/plain": [
              "<Figure size 640x480 with 1 Axes>"
            ]
          },
          "metadata": {},
          "output_type": "display_data"
        },
        {
          "name": "stdout",
          "output_type": "stream",
          "text": [
            "bird  plane bird  truck\n"
          ]
        }
      ],
      "source": [
        "import matplotlib.pyplot as plt\n",
        "\n",
        "def imshow(img):\n",
        "    img = img / 2 + 0.5     # unnormalize\n",
        "    npimg = img.numpy()\n",
        "    plt.imshow(np.transpose(npimg, (1, 2, 0)))\n",
        "    plt.show()\n",
        "\n",
        "\n",
        "# get some random training images\n",
        "dataiter = iter(trainloader)\n",
        "images, labels = next(dataiter)\n",
        "\n",
        "# show images\n",
        "imshow(torchvision.utils.make_grid(images))\n",
        "# print labels\n",
        "print(' '.join(f'{classes[labels[j]]:5s}' for j in range(batch_size)))"
      ]
    },
    {
      "cell_type": "markdown",
      "metadata": {
        "id": "E29zv57GLmMN"
      },
      "source": [
        "### Define our Network Architecture"
      ]
    },
    {
      "cell_type": "code",
      "execution_count": null,
      "metadata": {
        "id": "j8p2YbneIyEc"
      },
      "outputs": [],
      "source": [
        "import torch.nn as nn\n",
        "import torch.nn.functional as F\n",
        "\n",
        "\n",
        "class Net(nn.Module):\n",
        "    def __init__(self):\n",
        "        super().__init__()\n",
        "        self.conv1 = nn.Conv2d(3, 6, 5) # 3 is number of channels in RGB input\n",
        "        self.pool = nn.MaxPool2d(2, 2)\n",
        "        self.conv2 = nn.Conv2d(6, 16, 5)\n",
        "        self.fc1 = nn.Linear(16 * 5 * 5, 120)\n",
        "        self.fc2 = nn.Linear(120, 84)\n",
        "        self.fc3 = nn.Linear(84, 10) # 10 is number of classes\n",
        "\n",
        "    def forward(self, x):\n",
        "        x = self.pool(F.relu(self.conv1(x)))\n",
        "        x = self.pool(F.relu(self.conv2(x)))\n",
        "        x = torch.flatten(x, 1) # flatten all dimensions except batch\n",
        "        x = F.relu(self.fc1(x))\n",
        "        x = F.relu(self.fc2(x))\n",
        "        x = self.fc3(x)\n",
        "        return x\n",
        "\n",
        "# Create the network\n",
        "net = Net()"
      ]
    },
    {
      "cell_type": "markdown",
      "metadata": {
        "id": "zfgIZt-3Lrmf"
      },
      "source": [
        "### Define Loss Function and Optimizer"
      ]
    },
    {
      "cell_type": "code",
      "execution_count": null,
      "metadata": {
        "id": "HD0mJeVrI2KB"
      },
      "outputs": [],
      "source": [
        "import torch.optim as optim\n",
        "\n",
        "criterion = nn.CrossEntropyLoss() # loss function / criterion\n",
        "optimizer = optim.SGD(net.parameters(), lr=0.001, momentum=0.9) # 1e-3 is a good default"
      ]
    },
    {
      "cell_type": "code",
      "execution_count": null,
      "metadata": {
        "id": "Ej8YiHQliKek"
      },
      "outputs": [],
      "source": [
        "# torch.cuda.is_available() # check if a gpu is available or not"
      ]
    },
    {
      "cell_type": "code",
      "execution_count": null,
      "metadata": {
        "id": "bp_CIRHxiaxL"
      },
      "outputs": [],
      "source": [
        "# move network to gpu\n",
        "# net = net.to(torch.device('cuda'))"
      ]
    },
    {
      "cell_type": "markdown",
      "metadata": {
        "id": "4B9xW-YRLvgS"
      },
      "source": [
        "### Train the Network using PyTorch"
      ]
    },
    {
      "cell_type": "code",
      "execution_count": null,
      "metadata": {
        "colab": {
          "background_save": true,
          "base_uri": "https://localhost:8080/"
        },
        "id": "lqpFw7sAAB8l",
        "outputId": "56e66b79-8e25-482b-ce99-cd663800c6c1"
      },
      "outputs": [
        {
          "name": "stdout",
          "output_type": "stream",
          "text": [
            "[1,  2000] loss: 2.305\n",
            "[1,  4000] loss: 2.304\n",
            "[1,  6000] loss: 2.304\n",
            "[1,  8000] loss: 2.304\n",
            "[1, 10000] loss: 2.304\n",
            "[1, 12000] loss: 2.303\n",
            "[2,  2000] loss: 2.304\n",
            "[2,  4000] loss: 2.305\n",
            "[2,  6000] loss: 2.304\n",
            "[2,  8000] loss: 2.303\n",
            "[2, 10000] loss: 2.304\n",
            "[2, 12000] loss: 2.304\n",
            "[3,  2000] loss: 2.305\n",
            "[3,  4000] loss: 2.304\n",
            "[3,  6000] loss: 2.304\n",
            "[3,  8000] loss: 2.305\n",
            "[3, 10000] loss: 2.303\n",
            "[3, 12000] loss: 2.303\n",
            "Finished Training\n"
          ]
        }
      ],
      "source": [
        "for epoch in range(3):  # loop over the dataset multiple times\n",
        "\n",
        "    running_loss = 0.0\n",
        "    for i, data in enumerate(trainloader, 0):\n",
        "        # get the inputs; data is a list of [inputs, labels]\n",
        "        inputs, labels = data\n",
        "        # inputs = inputs.to(torch.device('cuda'))\n",
        "        # labels = labels.to(torch.device('cuda'))\n",
        "\n",
        "        # zero the parameter gradients\n",
        "        optimizer.zero_grad()\n",
        "\n",
        "        # forward + backward + optimize\n",
        "        outputs = net(inputs)\n",
        "        loss = criterion(outputs, labels)\n",
        "        loss.backward()\n",
        "        optimizer.step()\n",
        "\n",
        "        # validation set\n",
        "        # with torch.no_grad():\n",
        "        #     pass\n",
        "\n",
        "        # print statistics\n",
        "        running_loss += loss.item()\n",
        "        if i % 2000 == 1999:    # print every 2000 mini-batches\n",
        "            print(f'[{epoch + 1}, {i + 1:5d}] loss: {running_loss / 2000:.3f}')\n",
        "            running_loss = 0.0\n",
        "\n",
        "print('Finished Training')"
      ]
    },
    {
      "cell_type": "code",
      "execution_count": null,
      "metadata": {
        "id": "4D4idAp-I5_b"
      },
      "outputs": [],
      "source": [
        "# PATH = './cifar_net.pth'\n",
        "# torch.save(net.state_dict(), PATH)"
      ]
    },
    {
      "cell_type": "markdown",
      "metadata": {
        "id": "SFu_eXQjL17q"
      },
      "source": [
        "### Predict on Test Set"
      ]
    },
    {
      "cell_type": "code",
      "execution_count": null,
      "metadata": {
        "colab": {
          "base_uri": "https://localhost:8080/",
          "height": 210
        },
        "id": "PT27ZsYlJDM5",
        "outputId": "00e1bc2a-7cdc-4fa2-966f-bd69767424d4"
      },
      "outputs": [
        {
          "data": {
            "image/png": "[encoded data removed]",
            "text/plain": [
              "<Figure size 640x480 with 1 Axes>"
            ]
          },
          "metadata": {},
          "output_type": "display_data"
        },
        {
          "name": "stdout",
          "output_type": "stream",
          "text": [
            "GroundTruth:  cat   ship  ship  plane\n"
          ]
        }
      ],
      "source": [
        "dataiter = iter(testloader)\n",
        "images, labels = next(dataiter)\n",
        "\n",
        "# print images\n",
        "imshow(torchvision.utils.make_grid(images))\n",
        "print('GroundTruth: ', ' '.join(f'{classes[labels[j]]:5s}' for j in range(4)))"
      ]
    },
    {
      "cell_type": "code",
      "execution_count": null,
      "metadata": {
        "id": "0OKxE9wDI-qz"
      },
      "outputs": [],
      "source": [
        "# net = Net()\n",
        "# net.load_state_dict(torch.load(PATH))"
      ]
    },
    {
      "cell_type": "code",
      "execution_count": null,
      "metadata": {
        "colab": {
          "base_uri": "https://localhost:8080/"
        },
        "id": "vZz4EeUbJT6C",
        "outputId": "e573dca1-db29-412a-c47e-c589deb7739c"
      },
      "outputs": [
        {
          "name": "stdout",
          "output_type": "stream",
          "text": [
            "torch.Size([4, 10])\n"
          ]
        },
        {
          "data": {
            "text/plain": [
              "tensor([[-1.2973, -2.8428,  0.1774,  3.0017, -0.1940,  2.5056,  1.9468,  0.0463,\n",
              "         -2.0822, -1.7077],\n",
              "        [ 6.1545,  6.8141, -1.3117, -4.0249, -2.0108, -4.8753, -3.3173, -4.9225,\n",
              "          5.3866,  2.7937],\n",
              "        [ 2.4970,  3.0559, -0.4060, -1.6581, -0.8557, -2.2746, -1.4176, -1.4669,\n",
              "          1.7733,  1.2676],\n",
              "        [ 3.7357,  1.8307,  1.2786, -1.8792,  0.0678, -3.2548, -2.2722, -2.4486,\n",
              "          2.3895, -0.8398]], grad_fn=<AddmmBackward0>)"
            ]
          },
          "execution_count": 11,
          "metadata": {},
          "output_type": "execute_result"
        }
      ],
      "source": [
        "outputs = net(images)\n",
        "print(outputs.shape)\n",
        "outputs"
      ]
    },
    {
      "cell_type": "code",
      "execution_count": null,
      "metadata": {
        "colab": {
          "base_uri": "https://localhost:8080/"
        },
        "id": "8vvXp9o3JWPL",
        "outputId": "ab010ba1-03d0-4923-8943-f86406a5b005"
      },
      "outputs": [
        {
          "name": "stdout",
          "output_type": "stream",
          "text": [
            "Predicted:  cat   car   car   plane\n"
          ]
        }
      ],
      "source": [
        "_, predicted = torch.max(outputs, 1)\n",
        "\n",
        "print('Predicted: ', ' '.join(f'{classes[predicted[j]]:5s}'\n",
        "                              for j in range(4)))"
      ]
    },
    {
      "cell_type": "markdown",
      "metadata": {
        "id": "v1Zdx7tfL6cF"
      },
      "source": [
        "### Compute Accuracy on Test Set"
      ]
    },
    {
      "cell_type": "code",
      "execution_count": null,
      "metadata": {
        "colab": {
          "base_uri": "https://localhost:8080/"
        },
        "id": "nGqmjZE0JYOv",
        "outputId": "368fd2d6-2697-4d22-a375-57ea78dc5a66"
      },
      "outputs": [
        {
          "name": "stdout",
          "output_type": "stream",
          "text": [
            "Accuracy of the network on the 10000 test images: 53 %\n"
          ]
        }
      ],
      "source": [
        "correct = 0\n",
        "total = 0\n",
        "# since we're not training, we don't need to calculate the gradients for our outputs\n",
        "with torch.no_grad():\n",
        "    for data in testloader:\n",
        "        images, labels = data\n",
        "        # calculate outputs by running images through the network\n",
        "        outputs = net(images)\n",
        "        # the class with the highest energy is what we choose as prediction\n",
        "        _, predicted = torch.max(outputs.data, 1)\n",
        "        total += labels.size(0)\n",
        "        correct += (predicted == labels).sum().item()\n",
        "\n",
        "print(f'Accuracy of the network on the 10000 test images: {100 * correct // total} %')"
      ]
    },
    {
      "cell_type": "markdown",
      "source": [
        "## Beyond PyTorch\n",
        "\n",
        "PyTorch offers robust capabilities for machine learning, but there are also a variety of third-party libraries that can make your workflow simpler and more efficient.\n",
        "\n",
        "### PyTorch Lightning\n",
        "\n",
        "**What it does**: PyTorch Lightning is a lightweight PyTorch wrapper that helps researchers and engineers organize their PyTorch code, making it more readable and maintainable. It abstracts away most of the boilerplate code, allowing users to focus more on the research part.\n",
        "\n",
        "**Installation**: `pip install pytorch-lightning`\n",
        "\n",
        "**Quick Fact**: You can convert your vanilla PyTorch code to Lightning by mainly reorganizing it, without any rewrite of your model, dataloaders, or optimizers.\n",
        "\n",
        "### TorchMetrics\n",
        "\n",
        "**What it does**: TorchMetrics is a PyTorch-native library for evaluation metrics, designed to work seamlessly with PyTorch Lightning and native PyTorch. It offers easy-to-use APIs for many evaluation metrics relevant to various tasks.\n",
        "\n",
        "**Installation**: `pip install torchmetrics`\n",
        "\n",
        "**Quick Fact**: TorchMetrics is designed for distributed training, offering optimized metric calculations across multiple GPUs or nodes.\n",
        "\n",
        "### TorchInfo\n",
        "\n",
        "**What it does**: TorchInfo provides a detailed information summary of PyTorch models, similar to TensorFlow's `model.summary()`. It gives layer-by-layer architectural details and the number of parameters.\n",
        "\n",
        "**Installation**: `pip install torchinfo`\n",
        "\n",
        "**Quick Fact**: You can easily visualize the layers, shapes, and parameter counts in your PyTorch model, aiding in debugging and optimization.\n",
        "\n",
        "### Weights & Biases\n",
        "\n",
        "**What it does**: Weights & Biases helps you keep track of your machine learning experiments. It provides tools for logging metrics, visualizing results, and comparing different runs.\n",
        "\n",
        "**Installation**: `pip install wandb`\n",
        "\n",
        "**Quick Fact**: With just a few lines of code, you can log training metrics, hyperparameters, and even output images or graphs to a web dashboard.\n",
        "\n",
        "### Hugging Face Transformers\n",
        "\n",
        "**What it does**: Provides pre-trained models and training scripts for Natural Language Processing (NLP) tasks like translation, text summarization, and more, all designed to be compatible with PyTorch.\n",
        "\n",
        "**Installation**: `pip install transformers`\n",
        "\n",
        "**Quick Fact**: Hugging Face's model hub allows you to easily download and fine-tune pre-trained models for a wide variety of NLP tasks.\n",
        "\n",
        "### ONNX (Open Neural Network Exchange)\n",
        "\n",
        "**What it does**: ONNX allows you to interchange models between various deep learning frameworks, making it easier to deploy models.\n",
        "\n",
        "**Installation**: `pip install onnx`\n",
        "\n",
        "**Quick Fact**: PyTorch provides native support for exporting models to the ONNX format, making it more versatile for multi-platform deployments."
      ],
      "metadata": {
        "id": "21jChElev2FJ"
      }
    }
  ],
  "metadata": {
    "accelerator": "GPU",
    "colab": {
      "provenance": [],
      "include_colab_link": true
    },
    "kernelspec": {
      "display_name": "Python 3",
      "name": "python3"
    }
  },
  "nbformat": 4,
  "nbformat_minor": 0
}